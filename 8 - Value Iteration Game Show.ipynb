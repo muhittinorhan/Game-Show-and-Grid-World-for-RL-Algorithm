{
 "cells": [
  {
   "cell_type": "code",
   "execution_count": null,
   "metadata": {},
   "outputs": [],
   "source": [
    "import numpy as np\n",
    "\n",
    "#Initialization\n",
    "ACTION_SPACE = ('P', 'Q')\n",
    "States=[i for i in range(1,13)]"
   ]
  },
  {
   "cell_type": "code",
   "execution_count": null,
   "metadata": {},
   "outputs": [],
   "source": [
    "actions = {1: ('P','Q'),\n",
    "           2: ('P', 'Q'),\n",
    "           3: ('P', 'Q'),\n",
    "           4: ('P', 'Q'),\n",
    "           5: ('P', 'Q'),\n",
    "           6: ('P', 'Q'),\n",
    "           7: ('P', 'Q'),\n",
    "           8: ('P', 'Q'),\n",
    "           9: ('P', 'Q'),\n",
    "          10: ('P', 'Q')\n",
    "  }"
   ]
  },
  {
   "cell_type": "code",
   "execution_count": null,
   "metadata": {},
   "outputs": [],
   "source": [
    "# p(s' | s, a) represented as:\n",
    "# KEY: (s, a) --> VALUE: {s': p(s' | s, a)}\n",
    "probs = {\n",
    "    (1,'P',2): 0.99,\n",
    "    (1,'P',11): 0.01,\n",
    "    (1,'Q',11): 1,\n",
    "    (2,'P',3): 0.90,\n",
    "    (2,'P',11): 0.10,\n",
    "    (2,'Q',11):1,\n",
    "    (3,'P',4): 0.80,\n",
    "    (3,'P',11): 0.20,\n",
    "    (3,'Q',11):1,\n",
    "    (4,'P',5): 0.70,\n",
    "    (4,'P',11): 0.30,\n",
    "    (4,'Q',11):1,\n",
    "    (5,'P',6): 0.60,\n",
    "    (5,'P',11): 0.40,\n",
    "    (5,'Q',11):1,\n",
    "    (6,'P',7): 0.50,\n",
    "    (6,'P',11): 0.50,\n",
    "    (6,'Q',11):1,\n",
    "    (7,'P',8): 0.40,\n",
    "    (7,'P',11): 0.60,\n",
    "    (7,'Q',11):1,\n",
    "    (8,'P',9): 0.30,\n",
    "    (8,'P',11): 0.70,\n",
    "    (8,'Q',11):1,\n",
    "    (9,'P',10): 0.20,\n",
    "    (9,'P',11): 0.80,\n",
    "    (9,'Q',11):1,\n",
    "    (10,'P',12): 0.1,\n",
    "    (10,'P',11): 0.9,\n",
    "    (10,'Q',11):1,\n",
    "  }\n",
    "REWARDS={\n",
    "    (1,'P',2): 10,\n",
    "    (1,'P',11): 0,\n",
    "    (1,'Q',11): 0,\n",
    "    (2,'P',3): 50,\n",
    "    (2,'P',11): -10,\n",
    "    (2,'Q',11):0,\n",
    "    (3,'P',4): 100,\n",
    "    (3,'P',11): -60,\n",
    "    (3,'Q',11):0,\n",
    "    (4,'P',5): 500,\n",
    "    (4,'P',11): -160,\n",
    "    (4,'Q',11):0,\n",
    "    (5,'P',6): 1000,\n",
    "    (5,'P',11): -660,\n",
    "    (5,'Q',11):0,\n",
    "    (6,'P',7): 5000,\n",
    "    (6,'P',11): -1660,\n",
    "    (6,'Q',11):0,\n",
    "    (7,'P',8): 10000,\n",
    "    (7,'P',11): -6660,\n",
    "    (7,'Q',11):0,\n",
    "    (8,'P',9): 50000,\n",
    "    (8,'P',11): -16660,\n",
    "    (8,'Q',11):0,\n",
    "    (9,'P',10): 100000,\n",
    "    (9,'P',11): -66660,\n",
    "    (9,'Q',11):0,\n",
    "    (10,'P',12):500000,\n",
    "    (10,'P',11):-166660,\n",
    "    (10,'Q',11):0,\n",
    "  }"
   ]
  },
  {
   "cell_type": "code",
   "execution_count": null,
   "metadata": {},
   "outputs": [],
   "source": [
    "def is_terminal(s):\n",
    "    return s in [11,12]"
   ]
  },
  {
   "cell_type": "code",
   "execution_count": null,
   "metadata": {},
   "outputs": [],
   "source": [
    "transition_probs = {}\n",
    "# the key is (s, a, s'), the value is the probability\n",
    "# that is, transition_probs[(s, a, s')] = p(s' | s, a)\n",
    "# any key NOT present will considered to be impossible (i.e. probability 0)\n",
    "rewards={}\n",
    "for s in States:\n",
    "    if not is_terminal(s):\n",
    "        for a in ACTION_SPACE:\n",
    "            for s2 in States:\n",
    "                if (s,a,s2) in probs:\n",
    "                    transition_probs[(s, a, s2)]=probs.get((s, a, s2),0)\n",
    "                else:\n",
    "                    transition_probs[(s, a, s2)]=0\n",
    "                if (s,a,s2) in REWARDS:\n",
    "                    rewards[(s, a, s2)]=REWARDS.get((s, a, s2),0)\n",
    "                else:\n",
    "                    rewards[(s, a, s2)]=0"
   ]
  },
  {
   "cell_type": "code",
   "execution_count": null,
   "metadata": {},
   "outputs": [],
   "source": [
    "# initialize V(s)\n",
    "V = {}\n",
    "for s in States:\n",
    "    V[s] = 0"
   ]
  },
  {
   "cell_type": "code",
   "execution_count": null,
   "metadata": {},
   "outputs": [],
   "source": [
    "# repeat until convergence\n",
    "# V[s] = max[a]{ sum[s',r] { p(s',r|s,a)[r + gamma*V[s']] } }\n",
    "it = 0\n",
    "gamma=1\n",
    "SMALL_ENOUGH=1e-3\n",
    "while True:\n",
    "    biggest_change = 0\n",
    "    for s in States:\n",
    "        if not is_terminal(s):\n",
    "            old_v = V[s]\n",
    "            new_v = float('-inf')\n",
    "            for a in ACTION_SPACE:\n",
    "                v = 0\n",
    "                for s2 in States:\n",
    "                # reward is a function of (s, a, s'), 0 if not specified\n",
    "                    r = rewards.get((s, a, s2), 0)\n",
    "                    v += transition_probs.get((s, a, s2), 0) * (r + gamma * V[s2])\n",
    "                    # keep v if it's better\n",
    "                if v > new_v:\n",
    "                        new_v = v\n",
    "            V[s] = new_v\n",
    "            biggest_change = max(biggest_change, np.abs(old_v - V[s]))\n",
    "    it += 1\n",
    "    print(\"iter:\", it, \"biggest_change:\", biggest_change)\n",
    "    if biggest_change < SMALL_ENOUGH:\n",
    "        break"
   ]
  },
  {
   "cell_type": "code",
   "execution_count": null,
   "metadata": {},
   "outputs": [],
   "source": [
    "# find a policy that leads to optimal value function\n",
    "policy = {}\n",
    "for s in States:\n",
    "    if not is_terminal(s):\n",
    "        best_a = None\n",
    "        best_value = float('-inf')\n",
    "        # loop through all possible actions to find the best current action\n",
    "        for a in ACTION_SPACE:\n",
    "            v = 0\n",
    "            for s2 in States:\n",
    "                # reward is a function of (s, a, s'), 0 if not specified\n",
    "                r = rewards.get((s, a, s2), 0)\n",
    "                v += transition_probs.get((s, a, s2), 0) * (r + gamma * V[s2])\n",
    "\n",
    "            # best_a is the action associated with best_value\n",
    "            if v > best_value:\n",
    "                best_value = v\n",
    "                best_a = a\n",
    "                policy[s] = best_a"
   ]
  },
  {
   "cell_type": "code",
   "execution_count": null,
   "metadata": {},
   "outputs": [],
   "source": [
    "V"
   ]
  },
  {
   "cell_type": "code",
   "execution_count": null,
   "metadata": {},
   "outputs": [],
   "source": [
    "policy"
   ]
  },
  {
   "cell_type": "code",
   "execution_count": null,
   "metadata": {},
   "outputs": [],
   "source": []
  }
 ],
 "metadata": {
  "kernelspec": {
   "display_name": "Python 3",
   "language": "python",
   "name": "python3"
  },
  "language_info": {
   "codemirror_mode": {
    "name": "ipython",
    "version": 3
   },
   "file_extension": ".py",
   "mimetype": "text/x-python",
   "name": "python",
   "nbconvert_exporter": "python",
   "pygments_lexer": "ipython3",
   "version": "3.8.5"
  }
 },
 "nbformat": 4,
 "nbformat_minor": 4
}
