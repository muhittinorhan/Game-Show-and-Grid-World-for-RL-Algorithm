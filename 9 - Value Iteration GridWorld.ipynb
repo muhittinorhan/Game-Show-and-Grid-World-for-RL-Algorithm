{
 "cells": [
  {
   "cell_type": "code",
   "execution_count": null,
   "metadata": {},
   "outputs": [],
   "source": [
    "import numpy as np\n",
    "\n",
    "#Initialization\n",
    "ACTION_SPACE = ('U', 'D', 'L', 'R')\n",
    "States=[(0, 0),\n",
    " (0, 1),\n",
    " (0, 2),\n",
    " (0, 3),\n",
    " (1, 0),\n",
    " (1, 2),\n",
    " (1, 3),\n",
    " (2, 0),\n",
    " (2, 1),\n",
    " (2, 2),\n",
    " (2, 3)]\n",
    "REWARDS = {(0, 3): 1, (1, 3): -1}\n",
    "actions = {\n",
    "    (0, 0): ('D', 'R'),\n",
    "    (0, 1): ('L', 'R'),\n",
    "    (0, 2): ('L', 'D', 'R'),\n",
    "    (1, 0): ('U', 'D'),\n",
    "    (1, 2): ('U', 'D', 'R'),\n",
    "    (2, 0): ('U', 'R'),\n",
    "    (2, 1): ('L', 'R'),\n",
    "    (2, 2): ('L', 'R', 'U'),\n",
    "    (2, 3): ('L', 'U'),\n",
    "    }\n",
    "def is_terminal(s):\n",
    "    return s in [(0, 3),(1, 3)] \n",
    "def get_next_state(s, a):\n",
    "    # this answers: where would I end up if I perform action 'a' in state 's'?\n",
    "    i, j = s[0], s[1]\n",
    "    # if this action moves you somewhere else, then it will be in this dictionary\n",
    "    if a in actions[(i, j)]:\n",
    "        if a == 'U':\n",
    "            i -= 1\n",
    "        elif a == 'D':\n",
    "            i += 1\n",
    "        elif a == 'R':\n",
    "            j += 1\n",
    "        elif a == 'L':\n",
    "            j -= 1\n",
    "    return i, j\n",
    "### define transition probabilities\n",
    "  # the key is (s, a, s'), the value is the probability\n",
    "  # that is, transition_probs[(s, a, s')] = p(s' | s, a)\n",
    "  # any key NOT present will considered to be impossible (i.e. probability 0)\n",
    "transition_probs = {}\n",
    "  # to reduce the dimensionality of the dictionary, we'll use deterministic\n",
    "  # rewards, r(s, a, s')\n",
    "  # note: you could make it simpler by using r(s') since the reward doesn't\n",
    "  # actually depend on (s, a)\n",
    "rewards = {}\n",
    "\n",
    "for s in States:\n",
    "    if not is_terminal(s):\n",
    "        for a in ACTION_SPACE:\n",
    "            s2 = get_next_state(s, a)\n",
    "            transition_probs[(s, a, s2)] = 1\n",
    "            if s2 in REWARDS:\n",
    "                rewards[(s, a, s2)] = REWARDS[s2]\n",
    "            else:\n",
    "                rewards[(s, a, s2)] = 0"
   ]
  },
  {
   "cell_type": "code",
   "execution_count": null,
   "metadata": {},
   "outputs": [],
   "source": [
    "# initialize V(s)\n",
    "V = {}\n",
    "for s in States:\n",
    "    V[s] = 0"
   ]
  },
  {
   "cell_type": "code",
   "execution_count": null,
   "metadata": {},
   "outputs": [],
   "source": [
    "# repeat until convergence\n",
    "# V[s] = max[a]{ sum[s',r] { p(s',r|s,a)[r + gamma*V[s']] } }\n",
    "it = 0\n",
    "gamma=0.9\n",
    "SMALL_ENOUGH=1e-3\n",
    "while True:\n",
    "    biggest_change = 0\n",
    "    for s in States:\n",
    "        if not is_terminal(s):\n",
    "            old_v = V[s]\n",
    "            new_v = float('-inf')\n",
    "            for a in ACTION_SPACE:\n",
    "                v = 0\n",
    "                for s2 in States:\n",
    "                # reward is a function of (s, a, s'), 0 if not specified\n",
    "                    r = rewards.get((s, a, s2), 0)\n",
    "                    v += transition_probs.get((s, a, s2), 0) * (r + gamma * V[s2])\n",
    "                    # keep v if it's better\n",
    "                if v > new_v:\n",
    "                        new_v = v\n",
    "            V[s] = new_v\n",
    "            biggest_change = max(biggest_change, np.abs(old_v - V[s]))\n",
    "    it += 1\n",
    "    print(\"iter:\", it, \"biggest_change:\", biggest_change)\n",
    "    if biggest_change < SMALL_ENOUGH:\n",
    "        break"
   ]
  },
  {
   "cell_type": "code",
   "execution_count": null,
   "metadata": {},
   "outputs": [],
   "source": [
    "# find a policy that leads to optimal value function\n",
    "policy = {}\n",
    "for s in States:\n",
    "    if not is_terminal(s):\n",
    "        best_a = None\n",
    "        best_value = float('-inf')\n",
    "        # loop through all possible actions to find the best current action\n",
    "        for a in ACTION_SPACE:\n",
    "            v = 0\n",
    "            for s2 in States:\n",
    "                # reward is a function of (s, a, s'), 0 if not specified\n",
    "                r = rewards.get((s, a, s2), 0)\n",
    "                v += transition_probs.get((s, a, s2), 0) * (r + gamma * V[s2])\n",
    "\n",
    "            # best_a is the action associated with best_value\n",
    "            if v > best_value:\n",
    "                best_value = v\n",
    "                best_a = a\n",
    "                policy[s] = best_a"
   ]
  },
  {
   "cell_type": "code",
   "execution_count": null,
   "metadata": {},
   "outputs": [],
   "source": [
    "def print_values(V, rows,columns):\n",
    "    for i in range(rows):\n",
    "        print(\"---------------------------\")\n",
    "        for j in range(columns):\n",
    "            v = V.get((i,j), 0)\n",
    "            if v >= 0:\n",
    "                print(\" %.2f|\" % v, end=\"\")\n",
    "            else:\n",
    "                print(\"%.2f|\" % v, end=\"\") # -ve sign takes up an extra space\n",
    "        print(\"\")\n",
    "def print_policy(policy,rows,columns):\n",
    "    for i in range(rows):\n",
    "        print(\"---------------------------\")\n",
    "        for j in range(columns):\n",
    "              a = policy.get((i,j), ' ')\n",
    "              print(\"  %s  |\" % a, end=\"\")\n",
    "        print(\"\")"
   ]
  },
  {
   "cell_type": "code",
   "execution_count": null,
   "metadata": {},
   "outputs": [],
   "source": [
    "print_values(V, 3,4)"
   ]
  },
  {
   "cell_type": "code",
   "execution_count": null,
   "metadata": {},
   "outputs": [],
   "source": [
    "print_policy(policy,rows=3,columns=4)"
   ]
  },
  {
   "cell_type": "code",
   "execution_count": null,
   "metadata": {},
   "outputs": [],
   "source": []
  }
 ],
 "metadata": {
  "kernelspec": {
   "display_name": "Python 3",
   "language": "python",
   "name": "python3"
  },
  "language_info": {
   "codemirror_mode": {
    "name": "ipython",
    "version": 3
   },
   "file_extension": ".py",
   "mimetype": "text/x-python",
   "name": "python",
   "nbconvert_exporter": "python",
   "pygments_lexer": "ipython3",
   "version": "3.8.5"
  }
 },
 "nbformat": 4,
 "nbformat_minor": 4
}
